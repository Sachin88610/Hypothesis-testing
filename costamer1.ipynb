{
 "cells": [
  {
   "cell_type": "code",
   "execution_count": 1,
   "id": "c1882e79",
   "metadata": {},
   "outputs": [],
   "source": [
    "import pandas as pd\n",
    "import numpy as np\n",
    "from scipy import stats"
   ]
  },
  {
   "cell_type": "markdown",
   "id": "5b860a3d",
   "metadata": {},
   "source": [
    "# Problem Statement :\n",
    "\n",
    "TeleCall uses 4 centers around the globe to process customer order forms. They audit a certain % of the customer order forms. Any error in order form renders it defective and has to be reworked before processing. The manager wants to check whether the defective % varies by centre. Please analyze the data at 5% significance level and help the manager draw appropriate inferences"
   ]
  },
  {
   "cell_type": "markdown",
   "id": "d921b65f",
   "metadata": {},
   "source": [
    "## 1 - Business Problem\n",
    "\n",
    "Does the defective % varies significantly by centre ?"
   ]
  },
  {
   "cell_type": "markdown",
   "id": "15c4cea5",
   "metadata": {},
   "source": [
    "## 2 - Data description\n",
    "\n",
    "α == 0.05 (95% Confidence)\n",
    "\n",
    "Y == Discrete\n",
    "X == Discrete\n",
    "\n",
    "Since there are more than 2 variable we will perform Chi-Square test"
   ]
  },
  {
   "cell_type": "markdown",
   "id": "ea2732d7",
   "metadata": {},
   "source": [
    "## 3 - Chi-Square Test"
   ]
  },
  {
   "cell_type": "code",
   "execution_count": 13,
   "id": "a4d9c4db",
   "metadata": {},
   "outputs": [],
   "source": [
    "df = pd.read_csv(r\"C:\\Users\\Sachin\\Downloads\\Costomer+OrderForm (1).csv\")"
   ]
  },
  {
   "cell_type": "code",
   "execution_count": 14,
   "id": "6d1ea313",
   "metadata": {},
   "outputs": [
    {
     "data": {
      "text/plain": [
       "Chi2ContingencyResult(statistic=3.8589606858203545, pvalue=0.2771020991233144, dof=3, expected_freq=array([[271.75,  28.25],\n",
       "       [271.75,  28.25],\n",
       "       [271.75,  28.25],\n",
       "       [271.75,  28.25]]))"
      ]
     },
     "execution_count": 14,
     "metadata": {},
     "output_type": "execute_result"
    }
   ],
   "source": [
    "stats.chi2_contingency([df['Phillippines'].value_counts(), df['Indonesia'].value_counts(), df['Malta'].value_counts(), df['India'].value_counts()])\n"
   ]
  },
  {
   "cell_type": "code",
   "execution_count": null,
   "id": "9a412d97",
   "metadata": {},
   "outputs": [],
   "source": []
  }
 ],
 "metadata": {
  "kernelspec": {
   "display_name": "Python 3 (ipykernel)",
   "language": "python",
   "name": "python3"
  },
  "language_info": {
   "codemirror_mode": {
    "name": "ipython",
    "version": 3
   },
   "file_extension": ".py",
   "mimetype": "text/x-python",
   "name": "python",
   "nbconvert_exporter": "python",
   "pygments_lexer": "ipython3",
   "version": "3.10.9"
  }
 },
 "nbformat": 4,
 "nbformat_minor": 5
}
