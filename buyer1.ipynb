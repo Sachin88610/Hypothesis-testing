{
 "cells": [
  {
   "cell_type": "code",
   "execution_count": 1,
   "id": "c55c6161",
   "metadata": {},
   "outputs": [],
   "source": [
    "import pandas as pd\n",
    "import numpy as np\n",
    "from scipy import stats"
   ]
  },
  {
   "cell_type": "markdown",
   "id": "44c940d8",
   "metadata": {},
   "source": [
    "# Problem Statement :\n",
    "\n",
    "Sales of products in four different regions is tabulated for males and females. Find if male-female buyer rations are similar across regions"
   ]
  },
  {
   "cell_type": "markdown",
   "id": "7334f98d",
   "metadata": {},
   "source": [
    "## 1 - Business Problem\n",
    "\n",
    "Is the male-female buyer rations are similar across regions"
   ]
  },
  {
   "cell_type": "markdown",
   "id": "98bda823",
   "metadata": {},
   "source": [
    "## 2 - Data description\n",
    "α == 0.05 (95% Confidence)\n",
    "\n",
    "Y == Discrete\n",
    "X == Discrete\n",
    "\n",
    "Since there are more than 2 variable we will perform Chi-Square test"
   ]
  },
  {
   "cell_type": "code",
   "execution_count": 5,
   "id": "30fbd650",
   "metadata": {},
   "outputs": [],
   "source": [
    "df = pd.read_csv(\"Buye.csv\")"
   ]
  },
  {
   "cell_type": "code",
   "execution_count": 6,
   "id": "79b6a81e",
   "metadata": {},
   "outputs": [
    {
     "data": {
      "text/plain": [
       "Chi2ContingencyResult(statistic=1.5959455386610577, pvalue=0.6603094907091882, dof=3, expected_freq=array([[  42.76531299,  442.23468701],\n",
       "       [ 146.81287862, 1518.18712138],\n",
       "       [ 131.11756787, 1355.88243213],\n",
       "       [  72.30424052,  747.69575948]]))"
      ]
     },
     "execution_count": 6,
     "metadata": {},
     "output_type": "execute_result"
    }
   ],
   "source": [
    "stats.chi2_contingency([df[\"East\"], df[\"West\"], df[\"North\"], df[\"South\"]])"
   ]
  },
  {
   "cell_type": "code",
   "execution_count": null,
   "id": "7d4e998c",
   "metadata": {},
   "outputs": [],
   "source": []
  }
 ],
 "metadata": {
  "kernelspec": {
   "display_name": "Python 3 (ipykernel)",
   "language": "python",
   "name": "python3"
  },
  "language_info": {
   "codemirror_mode": {
    "name": "ipython",
    "version": 3
   },
   "file_extension": ".py",
   "mimetype": "text/x-python",
   "name": "python",
   "nbconvert_exporter": "python",
   "pygments_lexer": "ipython3",
   "version": "3.10.9"
  }
 },
 "nbformat": 4,
 "nbformat_minor": 5
}
