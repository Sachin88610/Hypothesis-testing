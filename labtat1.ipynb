{
 "cells": [
  {
   "cell_type": "code",
   "execution_count": 1,
   "id": "0909665b",
   "metadata": {},
   "outputs": [],
   "source": [
    "import pandas as pd\n",
    "import numpy as np\n",
    "from scipy import stats"
   ]
  },
  {
   "cell_type": "markdown",
   "id": "c7421bc8",
   "metadata": {},
   "source": [
    "# Problem Statement :\n",
    "\n",
    "A hospital wants to determine whether there is any difference in the average Turn Around Time (TAT) of reports of the laboratories on their preferred list. They collected a random sample and recorded TAT for reports of 4 laboratories. TAT is defined as sample collected to report dispatch\n",
    "\n",
    "Analyze the data and determine whether there is any difference in average TAT among the different laboratories at 5% significance level"
   ]
  },
  {
   "cell_type": "markdown",
   "id": "fd7eb264",
   "metadata": {},
   "source": [
    "## 1 - Business Problem\n",
    "\n",
    "Is there a significant difference in the average Turn Around Time between laboratories ?"
   ]
  },
  {
   "cell_type": "markdown",
   "id": "5314789b",
   "metadata": {},
   "source": [
    "## 2 - Data description\n",
    "\n",
    "α == 0.05 (95% Confidence)\n",
    "\n",
    "Y == Continious\n",
    "X == Discrete\n",
    "\n",
    "Is Y1, Y2, Y3 and Y4 normal ?\n",
    "\n",
    "H0 = Y1, Y2, Y3 and Y4 are normal\n",
    "H1 = Y1, Y2, Y3 and Y4 are not normal"
   ]
  },
  {
   "cell_type": "markdown",
   "id": "a87e008e",
   "metadata": {},
   "source": [
    "## 3 - Normality Test"
   ]
  },
  {
   "cell_type": "code",
   "execution_count": 2,
   "id": "da1e6edd",
   "metadata": {},
   "outputs": [],
   "source": [
    "df = pd.read_csv(r\"C:\\Users\\Sachin\\Downloads\\LabTAT (1).csv\")"
   ]
  },
  {
   "cell_type": "code",
   "execution_count": 3,
   "id": "e0d4de02",
   "metadata": {},
   "outputs": [
    {
     "data": {
      "text/plain": [
       "ShapiroResult(statistic=0.990183413028717, pvalue=0.5507769584655762)"
      ]
     },
     "execution_count": 3,
     "metadata": {},
     "output_type": "execute_result"
    }
   ],
   "source": [
    "stats.shapiro(df[\"Laboratory 1\"])"
   ]
  },
  {
   "cell_type": "code",
   "execution_count": 4,
   "id": "7840c3b5",
   "metadata": {},
   "outputs": [
    {
     "data": {
      "text/plain": [
       "ShapiroResult(statistic=0.9936320185661316, pvalue=0.8637352585792542)"
      ]
     },
     "execution_count": 4,
     "metadata": {},
     "output_type": "execute_result"
    }
   ],
   "source": [
    "stats.shapiro(df[\"Laboratory 2\"])"
   ]
  },
  {
   "cell_type": "code",
   "execution_count": 5,
   "id": "73eccc24",
   "metadata": {},
   "outputs": [
    {
     "data": {
      "text/plain": [
       "ShapiroResult(statistic=0.988633930683136, pvalue=0.42045730352401733)"
      ]
     },
     "execution_count": 5,
     "metadata": {},
     "output_type": "execute_result"
    }
   ],
   "source": [
    "stats.shapiro(df[\"Laboratory 3\"])"
   ]
  },
  {
   "cell_type": "code",
   "execution_count": 6,
   "id": "56422646",
   "metadata": {},
   "outputs": [
    {
     "data": {
      "text/plain": [
       "ShapiroResult(statistic=0.988633930683136, pvalue=0.42045730352401733)"
      ]
     },
     "execution_count": 6,
     "metadata": {},
     "output_type": "execute_result"
    }
   ],
   "source": [
    "stats.shapiro(df[\"Laboratory 3\"])"
   ]
  },
  {
   "cell_type": "markdown",
   "id": "f9dedfb3",
   "metadata": {},
   "source": [
    "## 4 - Variance"
   ]
  },
  {
   "cell_type": "code",
   "execution_count": 7,
   "id": "13056f8d",
   "metadata": {},
   "outputs": [
    {
     "data": {
      "text/plain": [
       "LeveneResult(statistic=2.599642500418024, pvalue=0.05161343808309816)"
      ]
     },
     "execution_count": 7,
     "metadata": {},
     "output_type": "execute_result"
    }
   ],
   "source": [
    "stats.levene(df[\"Laboratory 1\"], df[\"Laboratory 2\"], df[\"Laboratory 3\"], df[\"Laboratory 4\"])"
   ]
  },
  {
   "cell_type": "markdown",
   "id": "fbfba365",
   "metadata": {},
   "source": [
    "## 5 - Model"
   ]
  },
  {
   "cell_type": "code",
   "execution_count": 8,
   "id": "a9148ba6",
   "metadata": {},
   "outputs": [
    {
     "name": "stderr",
     "output_type": "stream",
     "text": [
      "C:\\Users\\Sachin\\AppData\\Local\\Temp\\ipykernel_1664\\3602434539.py:1: DeprecationWarning: Please use `f_oneway` from the `scipy.stats` namespace, the `scipy.stats.stats` namespace is deprecated.\n",
      "  stats.stats.f_oneway(df[\"Laboratory 1\"], df[\"Laboratory 2\"], df[\"Laboratory 3\"], df[\"Laboratory 4\"])\n"
     ]
    },
    {
     "data": {
      "text/plain": [
       "F_onewayResult(statistic=118.70421654401437, pvalue=2.1156708949992414e-57)"
      ]
     },
     "execution_count": 8,
     "metadata": {},
     "output_type": "execute_result"
    }
   ],
   "source": [
    "stats.stats.f_oneway(df[\"Laboratory 1\"], df[\"Laboratory 2\"], df[\"Laboratory 3\"], df[\"Laboratory 4\"])"
   ]
  },
  {
   "cell_type": "code",
   "execution_count": null,
   "id": "1743068e",
   "metadata": {},
   "outputs": [],
   "source": []
  }
 ],
 "metadata": {
  "kernelspec": {
   "display_name": "Python 3 (ipykernel)",
   "language": "python",
   "name": "python3"
  },
  "language_info": {
   "codemirror_mode": {
    "name": "ipython",
    "version": 3
   },
   "file_extension": ".py",
   "mimetype": "text/x-python",
   "name": "python",
   "nbconvert_exporter": "python",
   "pygments_lexer": "ipython3",
   "version": "3.10.9"
  }
 },
 "nbformat": 4,
 "nbformat_minor": 5
}
